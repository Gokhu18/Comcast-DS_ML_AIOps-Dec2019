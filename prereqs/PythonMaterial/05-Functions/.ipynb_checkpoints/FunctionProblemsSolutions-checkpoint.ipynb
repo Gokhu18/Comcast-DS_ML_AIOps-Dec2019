{
 "cells": [
  {
   "cell_type": "markdown",
   "metadata": {},
   "source": [
    "## Problem 1\n",
    "Create a function that takes in a string and returns a new string with the letters scrambled."
   ]
  },
  {
   "cell_type": "code",
   "execution_count": 3,
   "metadata": {},
   "outputs": [
    {
     "data": {
      "text/plain": [
       "'ceabd'"
      ]
     },
     "execution_count": 3,
     "metadata": {},
     "output_type": "execute_result"
    }
   ],
   "source": [
    "import random\n",
    "\n",
    "def rshuffle(instr):\n",
    "    letters = []\n",
    "    for letter in instr:\n",
    "        letters.append(letter)\n",
    "    random.shuffle(letters)\n",
    "    return ''.join(letters)\n",
    "rshuffle('abcde')"
   ]
  },
  {
   "cell_type": "code",
   "execution_count": 7,
   "metadata": {},
   "outputs": [
    {
     "data": {
      "text/plain": [
       "'eabdc'"
      ]
     },
     "execution_count": 7,
     "metadata": {},
     "output_type": "execute_result"
    }
   ],
   "source": [
    "import random\n",
    "\n",
    "def rshuffle(instr):\n",
    "    letters = [letter for letter in instr]\n",
    "    random.shuffle(letters)\n",
    "    return ''.join(letters)\n",
    "rshuffle('abcde')"
   ]
  },
  {
   "cell_type": "markdown",
   "metadata": {},
   "source": [
    "We can't use the return of random.shuffle(), because it is an in-place function. This means that it modifies the list passed into it, but returns None."
   ]
  },
  {
   "cell_type": "code",
   "execution_count": 10,
   "metadata": {},
   "outputs": [
    {
     "data": {
      "text/plain": [
       "NoneType"
      ]
     },
     "execution_count": 10,
     "metadata": {},
     "output_type": "execute_result"
    }
   ],
   "source": [
    "mylist = [1,2,3,4,5]\n",
    "type(random.shuffle(mylist))"
   ]
  },
  {
   "cell_type": "markdown",
   "metadata": {},
   "source": [
    "Let's see if there's a way to make this a one-liner (just for fun)!"
   ]
  },
  {
   "cell_type": "code",
   "execution_count": null,
   "metadata": {},
   "outputs": [],
   "source": [
    "import random\n",
    "\n",
    "def rshuffle(instr):\n",
    "    return random.sample(list(instr),len(instr))\n",
    "rshuffle('abcde')"
   ]
  },
  {
   "cell_type": "markdown",
   "metadata": {},
   "source": [
    "## Problem 2\n",
    "Create a function that takes in a string and returns it translated into Pig Latin\n",
    "https://en.wikipedia.org/wiki/Pig_Latin"
   ]
  },
  {
   "cell_type": "code",
   "execution_count": 21,
   "metadata": {},
   "outputs": [
    {
     "data": {
      "text/plain": [
       "'enisday'"
      ]
     },
     "execution_count": 21,
     "metadata": {},
     "output_type": "execute_result"
    }
   ],
   "source": [
    "def piglatin(inputstring):\n",
    "    vowels = ('a','e','i','o','u')\n",
    "    temp = list(inputstring)\n",
    "    i = 0\n",
    "    while temp[i] not in vowels:\n",
    "        i +=1\n",
    "    translation = temp[i:]\n",
    "    for letter in temp[:i]:\n",
    "        translation.append(letter)\n",
    "    translation.append('a')\n",
    "    translation.append('y')\n",
    "    return ''.join(translation)\n",
    "\n",
    "piglatin('denis')"
   ]
  },
  {
   "cell_type": "code",
   "execution_count": 22,
   "metadata": {},
   "outputs": [
    {
     "data": {
      "text/plain": [
       "'enisday'"
      ]
     },
     "execution_count": 22,
     "metadata": {},
     "output_type": "execute_result"
    }
   ],
   "source": [
    "def piglatin(inputstring):\n",
    "    vowels = ('a','e','i','o','u')\n",
    "    temp = list(inputstring)\n",
    "    i = 0\n",
    "    while temp[i] not in vowels:\n",
    "        i +=1\n",
    "    return inputstring[i:] + inputstring[:i] + 'ay'\n",
    "    \n",
    "piglatin('denis')"
   ]
  },
  {
   "cell_type": "markdown",
   "metadata": {},
   "source": [
    "## Problem 3\n",
    "Create a function that takes in in an integer and returns the factorial of that number"
   ]
  },
  {
   "cell_type": "code",
   "execution_count": 26,
   "metadata": {},
   "outputs": [
    {
     "data": {
      "text/plain": [
       "120"
      ]
     },
     "execution_count": 26,
     "metadata": {},
     "output_type": "execute_result"
    }
   ],
   "source": [
    "def myfactorial(myint):\n",
    "    if type(myint) is not int:\n",
    "        return \"error\"\n",
    "    elif myint == 0:\n",
    "        return 1\n",
    "    elif myint < 0:\n",
    "        return \"error\"\n",
    "    else:\n",
    "        result = 1\n",
    "        for i in range(1,myint+1):\n",
    "            result *= i\n",
    "        return result\n",
    "myfactorial(5)"
   ]
  },
  {
   "cell_type": "markdown",
   "metadata": {},
   "source": [
    "## Problem 4\n",
    "Create a function that takes in in an integer and returns the factorial of that number\n",
    "Make it a recursive function"
   ]
  },
  {
   "cell_type": "code",
   "execution_count": 33,
   "metadata": {},
   "outputs": [
    {
     "data": {
      "text/plain": [
       "120"
      ]
     },
     "execution_count": 33,
     "metadata": {},
     "output_type": "execute_result"
    }
   ],
   "source": [
    "def myfactorial(myint):\n",
    "    if type(myint) is not int:\n",
    "        return \"error\"\n",
    "    elif myint == 0:\n",
    "        return 1\n",
    "    elif myint < 0:\n",
    "        return \"error\"\n",
    "    else:\n",
    "        result = 1\n",
    "        return myint * myfactorial(myint - 1)\n",
    "        \n",
    "myfactorial(5)"
   ]
  },
  {
   "cell_type": "code",
   "execution_count": 32,
   "metadata": {},
   "outputs": [
    {
     "data": {
      "text/plain": [
       "15"
      ]
     },
     "execution_count": 32,
     "metadata": {},
     "output_type": "execute_result"
    }
   ],
   "source": [
    "def sum_from_one_to(myint):\n",
    "    if myint == 0:\n",
    "        return 0\n",
    "    else:\n",
    "        return myint + sum_from_one_to(myint - 1)\n",
    "sum_from_one_to(5)"
   ]
  },
  {
   "cell_type": "code",
   "execution_count": null,
   "metadata": {},
   "outputs": [],
   "source": []
  },
  {
   "cell_type": "code",
   "execution_count": null,
   "metadata": {},
   "outputs": [],
   "source": []
  }
 ],
 "metadata": {
  "kernelspec": {
   "display_name": "Python 3",
   "language": "python",
   "name": "python3"
  },
  "language_info": {
   "codemirror_mode": {
    "name": "ipython",
    "version": 3
   },
   "file_extension": ".py",
   "mimetype": "text/x-python",
   "name": "python",
   "nbconvert_exporter": "python",
   "pygments_lexer": "ipython3",
   "version": "3.7.1"
  }
 },
 "nbformat": 4,
 "nbformat_minor": 2
}
