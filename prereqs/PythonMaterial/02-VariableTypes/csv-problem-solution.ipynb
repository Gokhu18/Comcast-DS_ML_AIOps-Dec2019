{
 "cells": [
  {
   "cell_type": "markdown",
   "metadata": {},
   "source": [
    "# Parsing a CSV - Solution"
   ]
  },
  {
   "cell_type": "code",
   "execution_count": 19,
   "metadata": {},
   "outputs": [],
   "source": [
    "data = \"\"\"Zip Code,Total Population,Median Age,Total Males,Total Females,Total Households,Average Household Size\\n90001,57110,26.6,28468,28642,12971,4.4\\n90002,51223,25.5,24876,26347,11731,4.36\\n90003,66266,26.3,32631,33635,15642,4.22\"\"\".strip()"
   ]
  },
  {
   "cell_type": "markdown",
   "metadata": {},
   "source": [
    "The 'data' string holds data that represents a csv. We can see that there are line breaks ('\\n') separating th rows, with commas separating the values within each row"
   ]
  },
  {
   "cell_type": "code",
   "execution_count": 20,
   "metadata": {},
   "outputs": [
    {
     "data": {
      "text/plain": [
       "'Zip Code,Total Population,Median Age,Total Males,Total Females,Total Households,Average Household Size\\n90001,57110,26.6,28468,28642,12971,4.4\\n90002,51223,25.5,24876,26347,11731,4.36\\n90003,66266,26.3,32631,33635,15642,4.22'"
      ]
     },
     "execution_count": 20,
     "metadata": {},
     "output_type": "execute_result"
    }
   ],
   "source": [
    "data"
   ]
  },
  {
   "cell_type": "markdown",
   "metadata": {},
   "source": [
    "If we want to separate (or, 'split up') the rows into individual strings, we can use the .split() method. "
   ]
  },
  {
   "cell_type": "code",
   "execution_count": 21,
   "metadata": {},
   "outputs": [
    {
     "data": {
      "text/plain": [
       "['Zip Code,Total Population,Median Age,Total Males,Total Females,Total Households,Average Household Size',\n",
       " '90001,57110,26.6,28468,28642,12971,4.4',\n",
       " '90002,51223,25.5,24876,26347,11731,4.36',\n",
       " '90003,66266,26.3,32631,33635,15642,4.22']"
      ]
     },
     "execution_count": 21,
     "metadata": {},
     "output_type": "execute_result"
    }
   ],
   "source": [
    "data.split('\\n')"
   ]
  },
  {
   "cell_type": "markdown",
   "metadata": {},
   "source": [
    "This gives us a list of new, smaller strings. But, the original 'data' variable is a strings. Strings are immutable. That means the the .split() method isn't going to modify the string. It will return the list of strings we see above, but we need to store that in a new variable if we want to access it later:"
   ]
  },
  {
   "cell_type": "code",
   "execution_count": 22,
   "metadata": {},
   "outputs": [],
   "source": [
    "rows = data.split('\\n')"
   ]
  },
  {
   "cell_type": "markdown",
   "metadata": {},
   "source": [
    "The 'rows' variable no holds what was returned when we called the .split() method. Let's take a look:"
   ]
  },
  {
   "cell_type": "code",
   "execution_count": 23,
   "metadata": {},
   "outputs": [
    {
     "data": {
      "text/plain": [
       "['Zip Code,Total Population,Median Age,Total Males,Total Females,Total Households,Average Household Size',\n",
       " '90001,57110,26.6,28468,28642,12971,4.4',\n",
       " '90002,51223,25.5,24876,26347,11731,4.36',\n",
       " '90003,66266,26.3,32631,33635,15642,4.22']"
      ]
     },
     "execution_count": 23,
     "metadata": {},
     "output_type": "execute_result"
    }
   ],
   "source": [
    "rows"
   ]
  },
  {
   "cell_type": "code",
   "execution_count": 24,
   "metadata": {},
   "outputs": [
    {
     "data": {
      "text/plain": [
       "list"
      ]
     },
     "execution_count": 24,
     "metadata": {},
     "output_type": "execute_result"
    }
   ],
   "source": [
    "type(rows)"
   ]
  },
  {
   "cell_type": "code",
   "execution_count": 25,
   "metadata": {},
   "outputs": [
    {
     "data": {
      "text/plain": [
       "4"
      ]
     },
     "execution_count": 25,
     "metadata": {},
     "output_type": "execute_result"
    }
   ],
   "source": [
    "len(rows)"
   ]
  },
  {
   "cell_type": "markdown",
   "metadata": {},
   "source": [
    "If we want to access the individual objects in our newly created 'rows' list, we can use indexing:"
   ]
  },
  {
   "cell_type": "code",
   "execution_count": 26,
   "metadata": {},
   "outputs": [
    {
     "data": {
      "text/plain": [
       "'Zip Code,Total Population,Median Age,Total Males,Total Females,Total Households,Average Household Size'"
      ]
     },
     "execution_count": 26,
     "metadata": {},
     "output_type": "execute_result"
    }
   ],
   "source": [
    "rows[0]"
   ]
  },
  {
   "cell_type": "code",
   "execution_count": 27,
   "metadata": {},
   "outputs": [
    {
     "data": {
      "text/plain": [
       "str"
      ]
     },
     "execution_count": 27,
     "metadata": {},
     "output_type": "execute_result"
    }
   ],
   "source": [
    "type(rows[0])"
   ]
  },
  {
   "cell_type": "markdown",
   "metadata": {},
   "source": [
    "And, once we access that first string object at [0], we can access its methods and attributes. If we want to split it up into each individual values (which are separated by commas), we can call the .split() method again:"
   ]
  },
  {
   "cell_type": "code",
   "execution_count": 28,
   "metadata": {},
   "outputs": [
    {
     "data": {
      "text/plain": [
       "['Zip Code',\n",
       " 'Total Population',\n",
       " 'Median Age',\n",
       " 'Total Males',\n",
       " 'Total Females',\n",
       " 'Total Households',\n",
       " 'Average Household Size']"
      ]
     },
     "execution_count": 28,
     "metadata": {},
     "output_type": "execute_result"
    }
   ],
   "source": [
    "rows[0].split(',')"
   ]
  },
  {
   "cell_type": "markdown",
   "metadata": {},
   "source": [
    "We can do the same for all the rows. Let's save them to a new variable so we can access them later. We'll create an empty list, called 'data_array', and append to it:"
   ]
  },
  {
   "cell_type": "code",
   "execution_count": 29,
   "metadata": {},
   "outputs": [
    {
     "data": {
      "text/plain": [
       "[['Zip Code',\n",
       "  'Total Population',\n",
       "  'Median Age',\n",
       "  'Total Males',\n",
       "  'Total Females',\n",
       "  'Total Households',\n",
       "  'Average Household Size'],\n",
       " ['90001', '57110', '26.6', '28468', '28642', '12971', '4.4'],\n",
       " ['90002', '51223', '25.5', '24876', '26347', '11731', '4.36'],\n",
       " ['90003', '66266', '26.3', '32631', '33635', '15642', '4.22']]"
      ]
     },
     "execution_count": 29,
     "metadata": {},
     "output_type": "execute_result"
    }
   ],
   "source": [
    "data_array = []\n",
    "data_array.append(rows[0].split(','))\n",
    "data_array.append(rows[1].split(','))\n",
    "data_array.append(rows[2].split(','))\n",
    "data_array.append(rows[3].split(','))\n",
    "data_array"
   ]
  },
  {
   "cell_type": "markdown",
   "metadata": {},
   "source": [
    "This gives us a list of lists (of strings), which represents our original CSV data."
   ]
  },
  {
   "cell_type": "markdown",
   "metadata": {},
   "source": [
    "Of course, we could have just created the list outright, instead of by appending to an empty list. Both give us the same result:"
   ]
  },
  {
   "cell_type": "code",
   "execution_count": 32,
   "metadata": {},
   "outputs": [
    {
     "data": {
      "text/plain": [
       "[['Zip Code',\n",
       "  'Total Population',\n",
       "  'Median Age',\n",
       "  'Total Males',\n",
       "  'Total Females',\n",
       "  'Total Households',\n",
       "  'Average Household Size'],\n",
       " ['90001', '57110', '26.6', '28468', '28642', '12971', '4.4'],\n",
       " ['90002', '51223', '25.5', '24876', '26347', '11731', '4.36'],\n",
       " ['90003', '66266', '26.3', '32631', '33635', '15642', '4.22']]"
      ]
     },
     "execution_count": 32,
     "metadata": {},
     "output_type": "execute_result"
    }
   ],
   "source": [
    "data_array = [\n",
    "rows[0].split(','),\n",
    "    rows[1].split(','),\n",
    "    rows[2].split(','),\n",
    "    rows[3].split(',')\n",
    "]\n",
    "data_array"
   ]
  },
  {
   "cell_type": "markdown",
   "metadata": {},
   "source": [
    "To access just the column names from the 'data_array' list, we can use indexing. Now that we have a list of lists of strings, we just want the list of strings that colds teh column headers. This is the first element in the list of list:"
   ]
  },
  {
   "cell_type": "code",
   "execution_count": 31,
   "metadata": {},
   "outputs": [
    {
     "data": {
      "text/plain": [
       "['Zip Code',\n",
       " 'Total Population',\n",
       " 'Median Age',\n",
       " 'Total Males',\n",
       " 'Total Females',\n",
       " 'Total Households',\n",
       " 'Average Household Size']"
      ]
     },
     "execution_count": 31,
     "metadata": {},
     "output_type": "execute_result"
    }
   ],
   "source": [
    "data_array[0]"
   ]
  },
  {
   "cell_type": "markdown",
   "metadata": {},
   "source": [
    "And, if we want just the data (no headers), we just can use splicing, and just skip the first item in the list (which is the column names):"
   ]
  },
  {
   "cell_type": "code",
   "execution_count": 33,
   "metadata": {},
   "outputs": [
    {
     "data": {
      "text/plain": [
       "[['90001', '57110', '26.6', '28468', '28642', '12971', '4.4'],\n",
       " ['90002', '51223', '25.5', '24876', '26347', '11731', '4.36'],\n",
       " ['90003', '66266', '26.3', '32631', '33635', '15642', '4.22']]"
      ]
     },
     "execution_count": 33,
     "metadata": {},
     "output_type": "execute_result"
    }
   ],
   "source": [
    "data_array[1:]"
   ]
  }
 ],
 "metadata": {
  "kernelspec": {
   "display_name": "Python 3",
   "language": "python",
   "name": "python3"
  },
  "language_info": {
   "codemirror_mode": {
    "name": "ipython",
    "version": 3
   },
   "file_extension": ".py",
   "mimetype": "text/x-python",
   "name": "python",
   "nbconvert_exporter": "python",
   "pygments_lexer": "ipython3",
   "version": "3.7.1"
  }
 },
 "nbformat": 4,
 "nbformat_minor": 2
}
