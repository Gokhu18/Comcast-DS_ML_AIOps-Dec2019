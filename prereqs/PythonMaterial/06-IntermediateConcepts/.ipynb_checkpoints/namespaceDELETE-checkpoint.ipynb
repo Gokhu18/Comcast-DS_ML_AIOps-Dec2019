{
 "cells": [
  {
   "cell_type": "markdown",
   "metadata": {},
   "source": [
    "# Namespace Examples"
   ]
  },
  {
   "cell_type": "code",
   "execution_count": 61,
   "metadata": {},
   "outputs": [
    {
     "name": "stdout",
     "output_type": "stream",
     "text": [
      "[1, 2, 3] before function\n",
      "['1', 'b', 'c'] inside of function, after overwriting\n",
      "['1', 'b', 'c'] outside of function\n"
     ]
    }
   ],
   "source": [
    "mylist = [1,2,3]\n",
    "print(mylist, \"before function\")\n",
    "def myfunc():\n",
    "    global mylist\n",
    "    mylist = ['1','b','c']\n",
    "    print(mylist, \"inside of function, after overwriting\")\n",
    "\n",
    "myfunc()\n",
    "print(mylist, \"outside of function\")"
   ]
  },
  {
   "cell_type": "code",
   "execution_count": 62,
   "metadata": {},
   "outputs": [
    {
     "name": "stdout",
     "output_type": "stream",
     "text": [
      "[1, 2, 3] before function\n",
      "['1', 'b', 'c'] inside of function, after overwriting\n",
      "[1, 2, 3] outside of function\n"
     ]
    }
   ],
   "source": [
    "mylist = [1,2,3]\n",
    "print(mylist, \"before function\")\n",
    "def myfunc():\n",
    "    #global mylist\n",
    "    mylist = ['1','b','c']\n",
    "    print(mylist, \"inside of function, after overwriting\")\n",
    "\n",
    "myfunc()\n",
    "print(mylist, \"outside of function\")"
   ]
  },
  {
   "cell_type": "code",
   "execution_count": null,
   "metadata": {},
   "outputs": [],
   "source": []
  },
  {
   "cell_type": "code",
   "execution_count": 69,
   "metadata": {},
   "outputs": [
    {
     "name": "stdout",
     "output_type": "stream",
     "text": [
      "[1, 2]\n"
     ]
    }
   ],
   "source": [
    "mylist = [1,2,3]\n",
    "\n",
    "def myfunc():\n",
    "    mylist.pop()\n",
    "\n",
    "myfunc()\n",
    "print(mylist)"
   ]
  },
  {
   "cell_type": "code",
   "execution_count": 68,
   "metadata": {},
   "outputs": [
    {
     "name": "stdout",
     "output_type": "stream",
     "text": [
      "[1, 2]\n"
     ]
    }
   ],
   "source": [
    "mylist = [1,2,3]\n",
    "\n",
    "def myfunc():\n",
    "    global mylist\n",
    "    mylist.pop()\n",
    "\n",
    "myfunc()\n",
    "print(mylist)"
   ]
  },
  {
   "cell_type": "code",
   "execution_count": 77,
   "metadata": {},
   "outputs": [
    {
     "name": "stdout",
     "output_type": "stream",
     "text": [
      "[1, 2, 3] before function\n",
      "[] before function\n",
      "[1, 2] after function\n",
      "[3] after function\n"
     ]
    }
   ],
   "source": [
    "mylist = [1,2,3]\n",
    "discardpile = []\n",
    "def myfunc(listinfunction,discard):\n",
    "    discard.append(listinfunction.pop())\n",
    "\n",
    "print(mylist,\"before function\")\n",
    "print(discardpile,\"before function\")\n",
    "\n",
    "myfunc(mylist,discardpile)\n",
    "print(mylist,\"after function\")\n",
    "print(discardpile,\"after function\")"
   ]
  }
 ],
 "metadata": {
  "kernelspec": {
   "display_name": "Python 3",
   "language": "python",
   "name": "python3"
  },
  "language_info": {
   "codemirror_mode": {
    "name": "ipython",
    "version": 3
   },
   "file_extension": ".py",
   "mimetype": "text/x-python",
   "name": "python",
   "nbconvert_exporter": "python",
   "pygments_lexer": "ipython3",
   "version": "3.7.1"
  }
 },
 "nbformat": 4,
 "nbformat_minor": 2
}
